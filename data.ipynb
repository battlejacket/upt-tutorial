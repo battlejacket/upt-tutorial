{
 "cells": [
  {
   "cell_type": "code",
   "execution_count": 7,
   "metadata": {},
   "outputs": [],
   "source": [
    "import torch\n",
    "import matplotlib.pyplot as plt\n",
    "import numpy as np"
   ]
  },
  {
   "cell_type": "code",
   "execution_count": 4,
   "metadata": {},
   "outputs": [
    {
     "name": "stderr",
     "output_type": "stream",
     "text": [
      "/tmp/ipykernel_1541916/3871987313.py:3: FutureWarning: You are using `torch.load` with `weights_only=False` (the current default value), which uses the default pickle module implicitly. It is possible to construct malicious pickle data which will execute arbitrary code during unpickling (See https://github.com/pytorch/pytorch/blob/main/SECURITY.md#untrusted-models for more details). In a future release, the default value for `weights_only` will be flipped to `True`. This limits the functions that could be executed during unpickling. Arbitrary objects will no longer be allowed to be loaded via this mode unless they are explicitly allowlisted by the user via `torch.serialization.add_safe_globals`. We recommend you start setting `weights_only=True` for any use case where you don't have full control of the loaded file. Please open an issue on GitHub for any issues related to this experimental feature.\n",
      "  mesh_tensor = torch.load(directory + 'mesh_points.th')\n",
      "/tmp/ipykernel_1541916/3871987313.py:4: FutureWarning: You are using `torch.load` with `weights_only=False` (the current default value), which uses the default pickle module implicitly. It is possible to construct malicious pickle data which will execute arbitrary code during unpickling (See https://github.com/pytorch/pytorch/blob/main/SECURITY.md#untrusted-models for more details). In a future release, the default value for `weights_only` will be flipped to `True`. This limits the functions that could be executed during unpickling. Arbitrary objects will no longer be allowed to be loaded via this mode unless they are explicitly allowlisted by the user via `torch.serialization.add_safe_globals`. We recommend you start setting `weights_only=True` for any use case where you don't have full control of the loaded file. Please open an issue on GitHub for any issues related to this experimental feature.\n",
      "  sdf_tensor = torch.load(directory + 'mesh_sdf.th')\n",
      "/tmp/ipykernel_1541916/3871987313.py:5: FutureWarning: You are using `torch.load` with `weights_only=False` (the current default value), which uses the default pickle module implicitly. It is possible to construct malicious pickle data which will execute arbitrary code during unpickling (See https://github.com/pytorch/pytorch/blob/main/SECURITY.md#untrusted-models for more details). In a future release, the default value for `weights_only` will be flipped to `True`. This limits the functions that could be executed during unpickling. Arbitrary objects will no longer be allowed to be loaded via this mode unless they are explicitly allowlisted by the user via `torch.serialization.add_safe_globals`. We recommend you start setting `weights_only=True` for any use case where you don't have full control of the loaded file. Please open an issue on GitHub for any issues related to this experimental feature.\n",
      "  p_tensor = torch.load(directory + 'p.th')\n",
      "/tmp/ipykernel_1541916/3871987313.py:6: FutureWarning: You are using `torch.load` with `weights_only=False` (the current default value), which uses the default pickle module implicitly. It is possible to construct malicious pickle data which will execute arbitrary code during unpickling (See https://github.com/pytorch/pytorch/blob/main/SECURITY.md#untrusted-models for more details). In a future release, the default value for `weights_only` will be flipped to `True`. This limits the functions that could be executed during unpickling. Arbitrary objects will no longer be allowed to be loaded via this mode unless they are explicitly allowlisted by the user via `torch.serialization.add_safe_globals`. We recommend you start setting `weights_only=True` for any use case where you don't have full control of the loaded file. Please open an issue on GitHub for any issues related to this experimental feature.\n",
      "  u_tensor = torch.load(directory + 'u.th')\n",
      "/tmp/ipykernel_1541916/3871987313.py:7: FutureWarning: You are using `torch.load` with `weights_only=False` (the current default value), which uses the default pickle module implicitly. It is possible to construct malicious pickle data which will execute arbitrary code during unpickling (See https://github.com/pytorch/pytorch/blob/main/SECURITY.md#untrusted-models for more details). In a future release, the default value for `weights_only` will be flipped to `True`. This limits the functions that could be executed during unpickling. Arbitrary objects will no longer be allowed to be loaded via this mode unless they are explicitly allowlisted by the user via `torch.serialization.add_safe_globals`. We recommend you start setting `weights_only=True` for any use case where you don't have full control of the loaded file. Please open an issue on GitHub for any issues related to this experimental feature.\n",
      "  v_tensor = torch.load(directory + 'v.th')\n"
     ]
    }
   ],
   "source": [
    "# Load tensor data\n",
    "directory = './data/ffs/preprocessed/DP10_463,63636363636368-0,45818181818181825-0,13454545454545455/'\n",
    "mesh_tensor = torch.load(directory + 'mesh_points.th')\n",
    "sdf_tensor = torch.load(directory + 'mesh_sdf.th')\n",
    "p_tensor = torch.load(directory + 'p.th')\n",
    "u_tensor = torch.load(directory + 'u.th')\n",
    "v_tensor = torch.load(directory + 'v.th')\n",
    "\n",
    "# Add data to dict\n",
    "dataDict = {\n",
    "    'mesh': mesh_tensor,\n",
    "    'sdf': sdf_tensor,\n",
    "    'p': p_tensor,\n",
    "    'u': u_tensor,\n",
    "    'v': v_tensor,\n",
    "    # 'sdf_res32': sdf_res32_tensor \n",
    "}"
   ]
  },
  {
   "cell_type": "code",
   "execution_count": 1,
   "metadata": {},
   "outputs": [
    {
     "name": "stdout",
     "output_type": "stream",
     "text": [
      "[PosixPath('data/ffs/preprocessed/DP100_699,9999999999992-0,93818181818181645-0,46181818181818091'), PosixPath('data/ffs/preprocessed/DP10_463,63636363636368-0,45818181818181825-0,13454545454545455'), PosixPath('data/ffs/preprocessed/DP11_563,63636363636363-0,989090909090907-0,13818181818181818'), PosixPath('data/ffs/preprocessed/DP12_336,36363636363637-0,99636363636363523-0,14181818181818184'), PosixPath('data/ffs/preprocessed/DP13_372,72727272727275-0,69090909090909047-0,14545454545454548'), PosixPath('data/ffs/preprocessed/DP14_754,54545454545348-0,59636363636363643-0,14909090909090911'), PosixPath('data/ffs/preprocessed/DP15_263,63636363636368-0,27636363636363637-0,15272727272727274'), PosixPath('data/ffs/preprocessed/DP16_72,72727272727272-0,84363636363636241-0,15636363636363637'), PosixPath('data/ffs/preprocessed/DP17_200,00000000000003-0,2181818181818182-0,16000000000000003'), PosixPath('data/ffs/preprocessed/DP18_709,09090909090833-0,87272727272727124-0,16363636363636364'), PosixPath('data/ffs/preprocessed/DP19_845,4545454545439-0,40727272727272734-0,1672727272727273'), PosixPath('data/ffs/preprocessed/DP1_718,18181818181733-0,43636363636363645-0,10181818181818182'), PosixPath('data/ffs/preprocessed/DP20_109,09090909090909-0,20363636363636364-0,17090909090909093'), PosixPath('data/ffs/preprocessed/DP21_436,36363636363649-0,3636363636363637-0,17454545454545456'), PosixPath('data/ffs/preprocessed/DP22_599,99999999999977-0,53818181818181832-0,17818181818181822'), PosixPath('data/ffs/preprocessed/DP23_990,90909090908849-0,44363636363636366-0,18181818181818185'), PosixPath('data/ffs/preprocessed/DP24_318,18181818181819-0,42181818181818187-0,18545454545454548'), PosixPath('data/ffs/preprocessed/DP25_390,90909090909093-0,34181818181818185-0,18909090909090912'), PosixPath('data/ffs/preprocessed/DP26_927,27272727272521-0,25454545454545457-0,19272727272727275'), PosixPath('data/ffs/preprocessed/DP27_827,27272727272577-0,8509090909090895-0,19636363636363641'), PosixPath('data/ffs/preprocessed/DP28_890,90909090908906-0,610909090909091-0,20000000000000004'), PosixPath('data/ffs/preprocessed/DP29_227,27272727272731-0,71272727272727221-0,20363636363636367'), PosixPath('data/ffs/preprocessed/DP2_1009,0909090909065-0,83636363636363509-0,10545454545454547'), PosixPath('data/ffs/preprocessed/DP30_400,00000000000011-0,39272727272727281-0,20727272727272728'), PosixPath('data/ffs/preprocessed/DP31_218,18181818181822-0,741818181818181-0,21090909090909093'), PosixPath('data/ffs/preprocessed/DP32_536,36363636363649-0,82181818181818067-0,21454545454545457'), PosixPath('data/ffs/preprocessed/DP33_363,63636363636374-0,24727272727272728-0,21818181818181823'), PosixPath('data/ffs/preprocessed/DP34_872,72727272727093-0,4872727272727273-0,22181818181818183'), PosixPath('data/ffs/preprocessed/DP35_254,54545454545459-0,55272727272727284-0,22545454545454549'), PosixPath('data/ffs/preprocessed/DP36_572,72727272727275-0,32000000000000006-0,22909090909090912'), PosixPath('data/ffs/preprocessed/DP37_854,54545454545291-0,74909090909090836-0,23272727272727278'), PosixPath('data/ffs/preprocessed/DP38_663,63636363636306-0,62545454545454549-0,23636363636363639'), PosixPath('data/ffs/preprocessed/DP39_490,90909090909105-0,93090909090908913-0,24000000000000005'), PosixPath('data/ffs/preprocessed/DP3_936,36363636363421-0,56-0,1090909090909091'), PosixPath('data/ffs/preprocessed/DP40_209,09090909090912-0,959999999999998-0,24363636363636365'), PosixPath('data/ffs/preprocessed/DP41_309,09090909090912-0,96727272727272529-0,24727272727272731'), PosixPath('data/ffs/preprocessed/DP42_645,454545454545-0,70545454545454489-0,25090909090909097'), PosixPath('data/ffs/preprocessed/DP43_836,36363636363478-0,7781818181818172-0,25454545454545463'), PosixPath('data/ffs/preprocessed/DP44_354,54545454545456-0,85818181818181682-0,25818181818181818'), PosixPath('data/ffs/preprocessed/DP45_509,09090909090924-0,60363636363636375-0,26181818181818184'), PosixPath('data/ffs/preprocessed/DP46_127,27272727272728-0,72727272727272663-0,2654545454545455'), PosixPath('data/ffs/preprocessed/DP47_1018,1818181818156-0,50181818181818194-0,26909090909090916'), PosixPath('data/ffs/preprocessed/DP48_518,18181818181824-0,92363636363636181-0,27272727272727276'), PosixPath('data/ffs/preprocessed/DP49_945,45454545454334-0,450909090909091-0,27636363636363642'), PosixPath('data/ffs/preprocessed/DP4_1036,3636363636338-0,734545454545454-0,11272727272727273'), PosixPath('data/ffs/preprocessed/DP50_618,1818181818179-0,35636363636363644-0,28'), PosixPath('data/ffs/preprocessed/DP51_590,90909090909076-0,47272727272727277-0,28363636363636369'), PosixPath('data/ffs/preprocessed/DP52_581,81818181818176-0,7709090909090901-0,28727272727272735'), PosixPath('data/ffs/preprocessed/DP53_899,99999999999807-0,46545454545454557-0,290909090909091'), PosixPath('data/ffs/preprocessed/DP54_190,90909090909093-0,52363636363636368-0,29454545454545455'), PosixPath('data/ffs/preprocessed/DP55_627,27272727272691-0,66181818181818164-0,29818181818181821'), PosixPath('data/ffs/preprocessed/DP56_909,09090909090708-0,40000000000000008-0,30181818181818187'), PosixPath('data/ffs/preprocessed/DP57_136,36363636363637-0,67636363636363606-0,30545454545454548'), PosixPath('data/ffs/preprocessed/DP58_781,81818181818062-0,51636363636363636-0,30909090909090908'), PosixPath('data/ffs/preprocessed/DP59_481,81818181818187-0,9018181818181803-0,31272727272727274'), PosixPath('data/ffs/preprocessed/DP5_999,9999999999975-0,64727272727272711-0,11636363636363636'), PosixPath('data/ffs/preprocessed/DP60_981,81818181817948-0,829090909090908-0,31636363636363629'), PosixPath('data/ffs/preprocessed/DP61_172,72727272727275-0,94545454545454355-0,31999999999999995'), PosixPath('data/ffs/preprocessed/DP62_672,72727272727218-0,2690909090909091-0,32363636363636356'), PosixPath('data/ffs/preprocessed/DP63_163,63636363636365-0,9090909090909074-0,32727272727272716'), PosixPath('data/ffs/preprocessed/DP64_1045,4545454545441-0,71999999999999953-0,33090909090909082'), PosixPath('data/ffs/preprocessed/DP65_636,363636363636-0,61818181818181817-0,33454545454545437'), PosixPath('data/ffs/preprocessed/DP66_300,00000000000006-0,79999999999999893-0,33818181818181803'), PosixPath('data/ffs/preprocessed/DP67_154,54545454545456-0,80727272727272625-0,34181818181818163'), PosixPath('data/ffs/preprocessed/DP68_863,63636363636192-0,581818181818182-0,34545454545454524'), PosixPath('data/ffs/preprocessed/DP69_799,99999999999864-0,58909090909090911-0,3490909090909089'), PosixPath('data/ffs/preprocessed/DP6_472,72727272727286-0,48000000000000009-0,12000000000000001'), PosixPath('data/ffs/preprocessed/DP70_527,27272727272748-0,63272727272727258-0,35272727272727245'), PosixPath('data/ffs/preprocessed/DP71_245,4545454545455-0,30545454545454548-0,3563636363636361'), PosixPath('data/ffs/preprocessed/DP72_100-0,97454545454545261-0,35999999999999976'), PosixPath('data/ffs/preprocessed/DP73_327,27272727272737-0,81454545454545335-0,36363636363636331'), PosixPath('data/ffs/preprocessed/DP74_1027,2727272727248-0,66909090909090874-0,367272727272727'), PosixPath('data/ffs/preprocessed/DP75_454,54545454545467-0,79272727272727184-0,37090909090909052'), PosixPath('data/ffs/preprocessed/DP76_236,3636363636364-0,24000000000000002-0,37454545454545418'), PosixPath('data/ffs/preprocessed/DP77_818,18181818181677-0,29090909090909095-0,37818181818181784'), PosixPath('data/ffs/preprocessed/DP78_281,81818181818187-0,21090909090909093-0,38181818181818139'), PosixPath('data/ffs/preprocessed/DP79_972,72727272727036-0,894545454545453-0,38545454545454505'), PosixPath('data/ffs/preprocessed/DP7_90,9090909090909-0,56727272727272737-0,12363636363636364'), PosixPath('data/ffs/preprocessed/DP80_427,27272727272731-0,37818181818181823-0,3890909090909086'), PosixPath('data/ffs/preprocessed/DP81_727,27272727272634-0,29818181818181821-0,39272727272727226'), PosixPath('data/ffs/preprocessed/DP82_654,545454545454-0,41454545454545455-0,39636363636363592'), PosixPath('data/ffs/preprocessed/DP83_745,45454545454447-0,76363636363636278-0,39999999999999947'), PosixPath('data/ffs/preprocessed/DP84_118,18181818181819-0,33454545454545459-0,40363636363636313'), PosixPath('data/ffs/preprocessed/DP85_381,81818181818193-0,31272727272727274-0,40727272727272668'), PosixPath('data/ffs/preprocessed/DP86_145,45454545454547-0,42909090909090913-0,41090909090909034'), PosixPath('data/ffs/preprocessed/DP87_790,90909090908963-0,32727272727272727-0,414545454545454'), PosixPath('data/ffs/preprocessed/DP88_772,7272727272715-0,69818181818181779-0,41818181818181754'), PosixPath('data/ffs/preprocessed/DP89_409,09090909090912-0,34909090909090912-0,4218181818181812'), PosixPath('data/ffs/preprocessed/DP8_63,636363636363633-0,37090909090909097-0,12727272727272729'), PosixPath('data/ffs/preprocessed/DP90_809,09090909090776-0,49454545454545462-0,42545454545454475'), PosixPath('data/ffs/preprocessed/DP91_736,36363636363535-0,530909090909091-0,42909090909090841'), PosixPath('data/ffs/preprocessed/DP92_881,81818181818-0,23272727272727273-0,43272727272727207'), PosixPath('data/ffs/preprocessed/DP93_500,00000000000006-0,22545454545454546-0,43636363636363562'), PosixPath('data/ffs/preprocessed/DP94_763,63636363636249-0,88727272727272566-0,43999999999999928'), PosixPath('data/ffs/preprocessed/DP95_554,54545454545462-0,38545454545454549-0,44363636363636283'), PosixPath('data/ffs/preprocessed/DP96_545,45454545454561-0,28363636363636369-0,44727272727272649'), PosixPath('data/ffs/preprocessed/DP97_181,81818181818184-0,75636363636363568-0,45090909090909015'), PosixPath('data/ffs/preprocessed/DP98_418,1818181818183-0,9818181818181797-0,4545454545454537'), PosixPath('data/ffs/preprocessed/DP99_81,818181818181813-0,91636363636363471-0,45818181818181736'), PosixPath('data/ffs/preprocessed/DP9_272,72727272727275-0,86545454545454414-0,13090909090909092')]\n"
     ]
    }
   ],
   "source": [
    "from upt.datasets.ffs_dataset import ffsDataset\n",
    "\n",
    "num_test_inputs  = 8192\n",
    "num_test_outputs = 8192\n",
    "# num_train_inputs  = 8192\n",
    "# num_train_outputs = 16000\n",
    "\n",
    "num_train_inputs  = num_test_inputs \n",
    "num_train_outputs = num_test_outputs\n",
    "\n",
    "crop_values= [[-3, -2], [3, 2]]\n",
    "\n",
    "# initialize dataset\n",
    "train_dataset = ffsDataset(\n",
    "    root=\"./data/ffs/preprocessed\",\n",
    "    # how many inputs to use for training\n",
    "    # num_inputs=float(\"inf\"),\n",
    "    num_inputs=num_train_inputs,\n",
    "    # how many outputs to use for training\n",
    "    # num_outputs=float(\"inf\"),\n",
    "    num_outputs=num_train_outputs,\n",
    "    # mode\n",
    "    mode=\"train\",\n",
    "    # crop\n",
    "    crop_values= crop_values,\n",
    ")"
   ]
  },
  {
   "cell_type": "code",
   "execution_count": null,
   "metadata": {},
   "outputs": [],
   "source": [
    "from torch.utils.data import DataLoader\n",
    "from upt.collators.ffs_collator import ffsCollator\n",
    "\n",
    "testvis_dataloader = DataLoader(\n",
    "    dataset=train_dataset,\n",
    "    batch_size=100,\n",
    "    collate_fn=ffsCollator(num_supernodes=2048, deterministic=True),\n",
    ")\n",
    "data = [d for d in iter(testvis_dataloader)]"
   ]
  },
  {
   "cell_type": "code",
   "execution_count": 6,
   "metadata": {},
   "outputs": [
    {
     "name": "stdout",
     "output_type": "stream",
     "text": [
      "['DP100_699,9999999999992-0,93818181818181645-0,46181818181818091', 'DP10_463,63636363636368-0,45818181818181825-0,13454545454545455', 'DP11_563,63636363636363-0,989090909090907-0,13818181818181818', 'DP12_336,36363636363637-0,99636363636363523-0,14181818181818184', 'DP13_372,72727272727275-0,69090909090909047-0,14545454545454548', 'DP14_754,54545454545348-0,59636363636363643-0,14909090909090911', 'DP15_263,63636363636368-0,27636363636363637-0,15272727272727274', 'DP16_72,72727272727272-0,84363636363636241-0,15636363636363637', 'DP17_200,00000000000003-0,2181818181818182-0,16000000000000003', 'DP18_709,09090909090833-0,87272727272727124-0,16363636363636364', 'DP19_845,4545454545439-0,40727272727272734-0,1672727272727273', 'DP1_718,18181818181733-0,43636363636363645-0,10181818181818182', 'DP20_109,09090909090909-0,20363636363636364-0,17090909090909093', 'DP21_436,36363636363649-0,3636363636363637-0,17454545454545456', 'DP22_599,99999999999977-0,53818181818181832-0,17818181818181822', 'DP23_990,90909090908849-0,44363636363636366-0,18181818181818185', 'DP24_318,18181818181819-0,42181818181818187-0,18545454545454548', 'DP25_390,90909090909093-0,34181818181818185-0,18909090909090912', 'DP26_927,27272727272521-0,25454545454545457-0,19272727272727275', 'DP27_827,27272727272577-0,8509090909090895-0,19636363636363641', 'DP28_890,90909090908906-0,610909090909091-0,20000000000000004', 'DP29_227,27272727272731-0,71272727272727221-0,20363636363636367', 'DP2_1009,0909090909065-0,83636363636363509-0,10545454545454547', 'DP30_400,00000000000011-0,39272727272727281-0,20727272727272728', 'DP31_218,18181818181822-0,741818181818181-0,21090909090909093', 'DP32_536,36363636363649-0,82181818181818067-0,21454545454545457', 'DP33_363,63636363636374-0,24727272727272728-0,21818181818181823', 'DP34_872,72727272727093-0,4872727272727273-0,22181818181818183', 'DP35_254,54545454545459-0,55272727272727284-0,22545454545454549', 'DP36_572,72727272727275-0,32000000000000006-0,22909090909090912', 'DP37_854,54545454545291-0,74909090909090836-0,23272727272727278', 'DP38_663,63636363636306-0,62545454545454549-0,23636363636363639', 'DP39_490,90909090909105-0,93090909090908913-0,24000000000000005', 'DP3_936,36363636363421-0,56-0,1090909090909091', 'DP40_209,09090909090912-0,959999999999998-0,24363636363636365', 'DP41_309,09090909090912-0,96727272727272529-0,24727272727272731', 'DP42_645,454545454545-0,70545454545454489-0,25090909090909097', 'DP43_836,36363636363478-0,7781818181818172-0,25454545454545463', 'DP44_354,54545454545456-0,85818181818181682-0,25818181818181818', 'DP45_509,09090909090924-0,60363636363636375-0,26181818181818184', 'DP46_127,27272727272728-0,72727272727272663-0,2654545454545455', 'DP47_1018,1818181818156-0,50181818181818194-0,26909090909090916', 'DP48_518,18181818181824-0,92363636363636181-0,27272727272727276', 'DP49_945,45454545454334-0,450909090909091-0,27636363636363642', 'DP4_1036,3636363636338-0,734545454545454-0,11272727272727273', 'DP50_618,1818181818179-0,35636363636363644-0,28', 'DP51_590,90909090909076-0,47272727272727277-0,28363636363636369', 'DP52_581,81818181818176-0,7709090909090901-0,28727272727272735', 'DP53_899,99999999999807-0,46545454545454557-0,290909090909091', 'DP54_190,90909090909093-0,52363636363636368-0,29454545454545455', 'DP55_627,27272727272691-0,66181818181818164-0,29818181818181821', 'DP56_909,09090909090708-0,40000000000000008-0,30181818181818187', 'DP57_136,36363636363637-0,67636363636363606-0,30545454545454548', 'DP58_781,81818181818062-0,51636363636363636-0,30909090909090908', 'DP59_481,81818181818187-0,9018181818181803-0,31272727272727274', 'DP5_999,9999999999975-0,64727272727272711-0,11636363636363636', 'DP60_981,81818181817948-0,829090909090908-0,31636363636363629', 'DP61_172,72727272727275-0,94545454545454355-0,31999999999999995', 'DP62_672,72727272727218-0,2690909090909091-0,32363636363636356', 'DP63_163,63636363636365-0,9090909090909074-0,32727272727272716', 'DP64_1045,4545454545441-0,71999999999999953-0,33090909090909082', 'DP65_636,363636363636-0,61818181818181817-0,33454545454545437', 'DP66_300,00000000000006-0,79999999999999893-0,33818181818181803', 'DP67_154,54545454545456-0,80727272727272625-0,34181818181818163', 'DP68_863,63636363636192-0,581818181818182-0,34545454545454524', 'DP69_799,99999999999864-0,58909090909090911-0,3490909090909089', 'DP6_472,72727272727286-0,48000000000000009-0,12000000000000001', 'DP70_527,27272727272748-0,63272727272727258-0,35272727272727245', 'DP71_245,4545454545455-0,30545454545454548-0,3563636363636361', 'DP72_100-0,97454545454545261-0,35999999999999976', 'DP73_327,27272727272737-0,81454545454545335-0,36363636363636331', 'DP74_1027,2727272727248-0,66909090909090874-0,367272727272727', 'DP75_454,54545454545467-0,79272727272727184-0,37090909090909052', 'DP76_236,3636363636364-0,24000000000000002-0,37454545454545418', 'DP77_818,18181818181677-0,29090909090909095-0,37818181818181784', 'DP78_281,81818181818187-0,21090909090909093-0,38181818181818139', 'DP79_972,72727272727036-0,894545454545453-0,38545454545454505', 'DP7_90,9090909090909-0,56727272727272737-0,12363636363636364', 'DP80_427,27272727272731-0,37818181818181823-0,3890909090909086', 'DP81_727,27272727272634-0,29818181818181821-0,39272727272727226', 'DP82_654,545454545454-0,41454545454545455-0,39636363636363592', 'DP83_745,45454545454447-0,76363636363636278-0,39999999999999947', 'DP84_118,18181818181819-0,33454545454545459-0,40363636363636313', 'DP85_381,81818181818193-0,31272727272727274-0,40727272727272668', 'DP86_145,45454545454547-0,42909090909090913-0,41090909090909034', 'DP87_790,90909090908963-0,32727272727272727-0,414545454545454', 'DP88_772,7272727272715-0,69818181818181779-0,41818181818181754', 'DP89_409,09090909090912-0,34909090909090912-0,4218181818181812', 'DP8_63,636363636363633-0,37090909090909097-0,12727272727272729', 'DP90_809,09090909090776-0,49454545454545462-0,42545454545454475', 'DP91_736,36363636363535-0,530909090909091-0,42909090909090841', 'DP92_881,81818181818-0,23272727272727273-0,43272727272727207', 'DP93_500,00000000000006-0,22545454545454546-0,43636363636363562', 'DP94_763,63636363636249-0,88727272727272566-0,43999999999999928', 'DP95_554,54545454545462-0,38545454545454549-0,44363636363636283', 'DP96_545,45454545454561-0,28363636363636369-0,44727272727272649', 'DP97_181,81818181818184-0,75636363636363568-0,45090909090909015', 'DP98_418,1818181818183-0,9818181818181797-0,4545454545454537', 'DP99_81,818181818181813-0,91636363636363471-0,45818181818181736', 'DP9_272,72727272727275-0,86545454545454414-0,13090909090909092']\n"
     ]
    }
   ],
   "source": [
    "for i in range(len(data)):\n",
    "    sample = data[i]\n",
    "    name = sample[\"name\"]\n",
    "    print(name)"
   ]
  },
  {
   "cell_type": "code",
   "execution_count": null,
   "metadata": {},
   "outputs": [],
   "source": [
    "for i in range(5):\n",
    "    sample = train_dataset[i]\n",
    "    # plot sparse\n",
    "    x_pos, y_pos = train_dataset.denormalize_pos(sample[\"output_pos\"]).unbind(1)\n",
    "    target = train_dataset.denormalize_feat(sample[\"target_feat\"]).clamp(0, 1)\n",
    "    target = target[:,0]\n",
    "\n",
    "    plt.figure(figsize=(10, 2))\n",
    "    plt.title(sample[\"name\"])\n",
    "    plt.scatter(x_pos, y_pos, c=target, marker=\"s\", s=1)\n",
    "    plt.show()"
   ]
  },
  {
   "cell_type": "code",
   "execution_count": 1,
   "metadata": {},
   "outputs": [],
   "source": [
    "from torch.utils.data import DataLoader\n",
    "from upt.collators.ffs_collator import ffsCollator\n",
    "from upt.datasets.ffs_dataset import ffsDataset\n",
    "crop_values= [[-3, -2], [3, 2]]\n",
    "\n",
    "test_hr_dataset = ffsDataset(\n",
    "    root=\"./data/ffs/preprocessed\",\n",
    "    # how many inputs to use for training\n",
    "    num_inputs=float(\"inf\"),\n",
    "    # num_inputs=8192,\n",
    "    # how many outputs to use for training\n",
    "    num_outputs=float(\"inf\"),\n",
    "    # num_outputs=8192,\n",
    "    # mode\n",
    "    mode=\"train\",\n",
    "    crop_values=crop_values,\n",
    ")"
   ]
  },
  {
   "cell_type": "code",
   "execution_count": null,
   "metadata": {},
   "outputs": [
    {
     "ename": "RuntimeError",
     "evalue": "stack expects each tensor to be equal size, but got [46348, 2] at entry 0 and [45856, 2] at entry 1",
     "output_type": "error",
     "traceback": [
      "\u001b[0;31m---------------------------------------------------------------------------\u001b[0m",
      "\u001b[0;31mRuntimeError\u001b[0m                              Traceback (most recent call last)",
      "Cell \u001b[0;32mIn[3], line 7\u001b[0m\n\u001b[1;32m      1\u001b[0m \u001b[38;5;66;03m# get test sample\u001b[39;00m\n\u001b[1;32m      2\u001b[0m testvis_dataloader \u001b[38;5;241m=\u001b[39m DataLoader(\n\u001b[1;32m      3\u001b[0m     dataset\u001b[38;5;241m=\u001b[39mtest_hr_dataset,\n\u001b[1;32m      4\u001b[0m     batch_size\u001b[38;5;241m=\u001b[39m\u001b[38;5;241m30\u001b[39m,\n\u001b[1;32m      5\u001b[0m     collate_fn\u001b[38;5;241m=\u001b[39mffsCollator(num_supernodes\u001b[38;5;241m=\u001b[39m\u001b[38;5;241m2048\u001b[39m, deterministic\u001b[38;5;241m=\u001b[39m\u001b[38;5;28;01mTrue\u001b[39;00m),\n\u001b[1;32m      6\u001b[0m )\n\u001b[0;32m----> 7\u001b[0m vis_batch \u001b[38;5;241m=\u001b[39m \u001b[38;5;28;43mnext\u001b[39;49m\u001b[43m(\u001b[49m\u001b[38;5;28;43miter\u001b[39;49m\u001b[43m(\u001b[49m\u001b[43mtestvis_dataloader\u001b[49m\u001b[43m)\u001b[49m\u001b[43m)\u001b[49m\n",
      "File \u001b[0;32m/opt/conda/lib/python3.11/site-packages/torch/utils/data/dataloader.py:701\u001b[0m, in \u001b[0;36m_BaseDataLoaderIter.__next__\u001b[0;34m(self)\u001b[0m\n\u001b[1;32m    698\u001b[0m \u001b[38;5;28;01mif\u001b[39;00m \u001b[38;5;28mself\u001b[39m\u001b[38;5;241m.\u001b[39m_sampler_iter \u001b[38;5;129;01mis\u001b[39;00m \u001b[38;5;28;01mNone\u001b[39;00m:\n\u001b[1;32m    699\u001b[0m     \u001b[38;5;66;03m# TODO(https://github.com/pytorch/pytorch/issues/76750)\u001b[39;00m\n\u001b[1;32m    700\u001b[0m     \u001b[38;5;28mself\u001b[39m\u001b[38;5;241m.\u001b[39m_reset()  \u001b[38;5;66;03m# type: ignore[call-arg]\u001b[39;00m\n\u001b[0;32m--> 701\u001b[0m data \u001b[38;5;241m=\u001b[39m \u001b[38;5;28;43mself\u001b[39;49m\u001b[38;5;241;43m.\u001b[39;49m\u001b[43m_next_data\u001b[49m\u001b[43m(\u001b[49m\u001b[43m)\u001b[49m\n\u001b[1;32m    702\u001b[0m \u001b[38;5;28mself\u001b[39m\u001b[38;5;241m.\u001b[39m_num_yielded \u001b[38;5;241m+\u001b[39m\u001b[38;5;241m=\u001b[39m \u001b[38;5;241m1\u001b[39m\n\u001b[1;32m    703\u001b[0m \u001b[38;5;28;01mif\u001b[39;00m (\n\u001b[1;32m    704\u001b[0m     \u001b[38;5;28mself\u001b[39m\u001b[38;5;241m.\u001b[39m_dataset_kind \u001b[38;5;241m==\u001b[39m _DatasetKind\u001b[38;5;241m.\u001b[39mIterable\n\u001b[1;32m    705\u001b[0m     \u001b[38;5;129;01mand\u001b[39;00m \u001b[38;5;28mself\u001b[39m\u001b[38;5;241m.\u001b[39m_IterableDataset_len_called \u001b[38;5;129;01mis\u001b[39;00m \u001b[38;5;129;01mnot\u001b[39;00m \u001b[38;5;28;01mNone\u001b[39;00m\n\u001b[1;32m    706\u001b[0m     \u001b[38;5;129;01mand\u001b[39;00m \u001b[38;5;28mself\u001b[39m\u001b[38;5;241m.\u001b[39m_num_yielded \u001b[38;5;241m>\u001b[39m \u001b[38;5;28mself\u001b[39m\u001b[38;5;241m.\u001b[39m_IterableDataset_len_called\n\u001b[1;32m    707\u001b[0m ):\n",
      "File \u001b[0;32m/opt/conda/lib/python3.11/site-packages/torch/utils/data/dataloader.py:757\u001b[0m, in \u001b[0;36m_SingleProcessDataLoaderIter._next_data\u001b[0;34m(self)\u001b[0m\n\u001b[1;32m    755\u001b[0m \u001b[38;5;28;01mdef\u001b[39;00m \u001b[38;5;21m_next_data\u001b[39m(\u001b[38;5;28mself\u001b[39m):\n\u001b[1;32m    756\u001b[0m     index \u001b[38;5;241m=\u001b[39m \u001b[38;5;28mself\u001b[39m\u001b[38;5;241m.\u001b[39m_next_index()  \u001b[38;5;66;03m# may raise StopIteration\u001b[39;00m\n\u001b[0;32m--> 757\u001b[0m     data \u001b[38;5;241m=\u001b[39m \u001b[38;5;28;43mself\u001b[39;49m\u001b[38;5;241;43m.\u001b[39;49m\u001b[43m_dataset_fetcher\u001b[49m\u001b[38;5;241;43m.\u001b[39;49m\u001b[43mfetch\u001b[49m\u001b[43m(\u001b[49m\u001b[43mindex\u001b[49m\u001b[43m)\u001b[49m  \u001b[38;5;66;03m# may raise StopIteration\u001b[39;00m\n\u001b[1;32m    758\u001b[0m     \u001b[38;5;28;01mif\u001b[39;00m \u001b[38;5;28mself\u001b[39m\u001b[38;5;241m.\u001b[39m_pin_memory:\n\u001b[1;32m    759\u001b[0m         data \u001b[38;5;241m=\u001b[39m _utils\u001b[38;5;241m.\u001b[39mpin_memory\u001b[38;5;241m.\u001b[39mpin_memory(data, \u001b[38;5;28mself\u001b[39m\u001b[38;5;241m.\u001b[39m_pin_memory_device)\n",
      "File \u001b[0;32m/opt/conda/lib/python3.11/site-packages/torch/utils/data/_utils/fetch.py:55\u001b[0m, in \u001b[0;36m_MapDatasetFetcher.fetch\u001b[0;34m(self, possibly_batched_index)\u001b[0m\n\u001b[1;32m     53\u001b[0m \u001b[38;5;28;01melse\u001b[39;00m:\n\u001b[1;32m     54\u001b[0m     data \u001b[38;5;241m=\u001b[39m \u001b[38;5;28mself\u001b[39m\u001b[38;5;241m.\u001b[39mdataset[possibly_batched_index]\n\u001b[0;32m---> 55\u001b[0m \u001b[38;5;28;01mreturn\u001b[39;00m \u001b[38;5;28;43mself\u001b[39;49m\u001b[38;5;241;43m.\u001b[39;49m\u001b[43mcollate_fn\u001b[49m\u001b[43m(\u001b[49m\u001b[43mdata\u001b[49m\u001b[43m)\u001b[49m\n",
      "File \u001b[0;32m/workspace/upt-tutorial/upt/collators/ffs_collator.py:53\u001b[0m, in \u001b[0;36mffsCollator.__call__\u001b[0;34m(self, batch)\u001b[0m\n\u001b[1;32m     50\u001b[0m collated_batch[\u001b[38;5;124m\"\u001b[39m\u001b[38;5;124mbatch_idx\u001b[39m\u001b[38;5;124m\"\u001b[39m] \u001b[38;5;241m=\u001b[39m batch_idx\n\u001b[1;32m     52\u001b[0m \u001b[38;5;66;03m# output_pos\u001b[39;00m\n\u001b[0;32m---> 53\u001b[0m collated_batch[\u001b[38;5;124m\"\u001b[39m\u001b[38;5;124moutput_pos\u001b[39m\u001b[38;5;124m\"\u001b[39m] \u001b[38;5;241m=\u001b[39m \u001b[43mdefault_collate\u001b[49m\u001b[43m(\u001b[49m\u001b[43m[\u001b[49m\u001b[43mbatch\u001b[49m\u001b[43m[\u001b[49m\u001b[43mi\u001b[49m\u001b[43m]\u001b[49m\u001b[43m[\u001b[49m\u001b[38;5;124;43m\"\u001b[39;49m\u001b[38;5;124;43moutput_pos\u001b[39;49m\u001b[38;5;124;43m\"\u001b[39;49m\u001b[43m]\u001b[49m\u001b[43m \u001b[49m\u001b[38;5;28;43;01mfor\u001b[39;49;00m\u001b[43m \u001b[49m\u001b[43mi\u001b[49m\u001b[43m \u001b[49m\u001b[38;5;129;43;01min\u001b[39;49;00m\u001b[43m \u001b[49m\u001b[38;5;28;43mrange\u001b[39;49m\u001b[43m(\u001b[49m\u001b[38;5;28;43mlen\u001b[39;49m\u001b[43m(\u001b[49m\u001b[43mbatch\u001b[49m\u001b[43m)\u001b[49m\u001b[43m)\u001b[49m\u001b[43m]\u001b[49m\u001b[43m)\u001b[49m\n\u001b[1;32m     55\u001b[0m \u001b[38;5;66;03m# target_feat to sparse tensor\u001b[39;00m\n\u001b[1;32m     56\u001b[0m \u001b[38;5;66;03m# batch_size * (num_outputs, dim) -> (batch_size * num_outputs, dim)\u001b[39;00m\n\u001b[1;32m     57\u001b[0m collated_batch[\u001b[38;5;124m\"\u001b[39m\u001b[38;5;124mtarget_feat\u001b[39m\u001b[38;5;124m\"\u001b[39m] \u001b[38;5;241m=\u001b[39m torch\u001b[38;5;241m.\u001b[39mconcat([batch[i][\u001b[38;5;124m\"\u001b[39m\u001b[38;5;124mtarget_feat\u001b[39m\u001b[38;5;124m\"\u001b[39m] \u001b[38;5;28;01mfor\u001b[39;00m i \u001b[38;5;129;01min\u001b[39;00m \u001b[38;5;28mrange\u001b[39m(\u001b[38;5;28mlen\u001b[39m(batch))])\n",
      "File \u001b[0;32m/opt/conda/lib/python3.11/site-packages/torch/utils/data/_utils/collate.py:398\u001b[0m, in \u001b[0;36mdefault_collate\u001b[0;34m(batch)\u001b[0m\n\u001b[1;32m    337\u001b[0m \u001b[38;5;28;01mdef\u001b[39;00m \u001b[38;5;21mdefault_collate\u001b[39m(batch):\n\u001b[1;32m    338\u001b[0m \u001b[38;5;250m    \u001b[39m\u001b[38;5;124mr\u001b[39m\u001b[38;5;124;03m\"\"\"\u001b[39;00m\n\u001b[1;32m    339\u001b[0m \u001b[38;5;124;03m    Take in a batch of data and put the elements within the batch into a tensor with an additional outer dimension - batch size.\u001b[39;00m\n\u001b[1;32m    340\u001b[0m \n\u001b[0;32m   (...)\u001b[0m\n\u001b[1;32m    396\u001b[0m \u001b[38;5;124;03m        >>> default_collate(batch)  # Handle `CustomType` automatically\u001b[39;00m\n\u001b[1;32m    397\u001b[0m \u001b[38;5;124;03m    \"\"\"\u001b[39;00m\n\u001b[0;32m--> 398\u001b[0m     \u001b[38;5;28;01mreturn\u001b[39;00m \u001b[43mcollate\u001b[49m\u001b[43m(\u001b[49m\u001b[43mbatch\u001b[49m\u001b[43m,\u001b[49m\u001b[43m \u001b[49m\u001b[43mcollate_fn_map\u001b[49m\u001b[38;5;241;43m=\u001b[39;49m\u001b[43mdefault_collate_fn_map\u001b[49m\u001b[43m)\u001b[49m\n",
      "File \u001b[0;32m/opt/conda/lib/python3.11/site-packages/torch/utils/data/_utils/collate.py:155\u001b[0m, in \u001b[0;36mcollate\u001b[0;34m(batch, collate_fn_map)\u001b[0m\n\u001b[1;32m    153\u001b[0m \u001b[38;5;28;01mif\u001b[39;00m collate_fn_map \u001b[38;5;129;01mis\u001b[39;00m \u001b[38;5;129;01mnot\u001b[39;00m \u001b[38;5;28;01mNone\u001b[39;00m:\n\u001b[1;32m    154\u001b[0m     \u001b[38;5;28;01mif\u001b[39;00m elem_type \u001b[38;5;129;01min\u001b[39;00m collate_fn_map:\n\u001b[0;32m--> 155\u001b[0m         \u001b[38;5;28;01mreturn\u001b[39;00m \u001b[43mcollate_fn_map\u001b[49m\u001b[43m[\u001b[49m\u001b[43melem_type\u001b[49m\u001b[43m]\u001b[49m\u001b[43m(\u001b[49m\u001b[43mbatch\u001b[49m\u001b[43m,\u001b[49m\u001b[43m \u001b[49m\u001b[43mcollate_fn_map\u001b[49m\u001b[38;5;241;43m=\u001b[39;49m\u001b[43mcollate_fn_map\u001b[49m\u001b[43m)\u001b[49m\n\u001b[1;32m    157\u001b[0m     \u001b[38;5;28;01mfor\u001b[39;00m collate_type \u001b[38;5;129;01min\u001b[39;00m collate_fn_map:\n\u001b[1;32m    158\u001b[0m         \u001b[38;5;28;01mif\u001b[39;00m \u001b[38;5;28misinstance\u001b[39m(elem, collate_type):\n",
      "File \u001b[0;32m/opt/conda/lib/python3.11/site-packages/torch/utils/data/_utils/collate.py:272\u001b[0m, in \u001b[0;36mcollate_tensor_fn\u001b[0;34m(batch, collate_fn_map)\u001b[0m\n\u001b[1;32m    270\u001b[0m     storage \u001b[38;5;241m=\u001b[39m elem\u001b[38;5;241m.\u001b[39m_typed_storage()\u001b[38;5;241m.\u001b[39m_new_shared(numel, device\u001b[38;5;241m=\u001b[39melem\u001b[38;5;241m.\u001b[39mdevice)\n\u001b[1;32m    271\u001b[0m     out \u001b[38;5;241m=\u001b[39m elem\u001b[38;5;241m.\u001b[39mnew(storage)\u001b[38;5;241m.\u001b[39mresize_(\u001b[38;5;28mlen\u001b[39m(batch), \u001b[38;5;241m*\u001b[39m\u001b[38;5;28mlist\u001b[39m(elem\u001b[38;5;241m.\u001b[39msize()))\n\u001b[0;32m--> 272\u001b[0m \u001b[38;5;28;01mreturn\u001b[39;00m \u001b[43mtorch\u001b[49m\u001b[38;5;241;43m.\u001b[39;49m\u001b[43mstack\u001b[49m\u001b[43m(\u001b[49m\u001b[43mbatch\u001b[49m\u001b[43m,\u001b[49m\u001b[43m \u001b[49m\u001b[38;5;241;43m0\u001b[39;49m\u001b[43m,\u001b[49m\u001b[43m \u001b[49m\u001b[43mout\u001b[49m\u001b[38;5;241;43m=\u001b[39;49m\u001b[43mout\u001b[49m\u001b[43m)\u001b[49m\n",
      "\u001b[0;31mRuntimeError\u001b[0m: stack expects each tensor to be equal size, but got [46348, 2] at entry 0 and [45856, 2] at entry 1"
     ]
    }
   ],
   "source": [
    "# get test sample\n",
    "testvis_dataloader = DataLoader(\n",
    "    dataset=test_hr_dataset,\n",
    "    batch_size=50,\n",
    "    collate_fn=ffsCollator(num_supernodes=2048, deterministic=True),\n",
    ")\n",
    "vis_batch = next(iter(testvis_dataloader))"
   ]
  },
  {
   "cell_type": "code",
   "execution_count": 5,
   "metadata": {},
   "outputs": [
    {
     "name": "stderr",
     "output_type": "stream",
     "text": [
      "/tmp/ipykernel_373902/1446659531.py:3: FutureWarning: You are using `torch.load` with `weights_only=False` (the current default value), which uses the default pickle module implicitly. It is possible to construct malicious pickle data which will execute arbitrary code during unpickling (See https://github.com/pytorch/pytorch/blob/main/SECURITY.md#untrusted-models for more details). In a future release, the default value for `weights_only` will be flipped to `True`. This limits the functions that could be executed during unpickling. Arbitrary objects will no longer be allowed to be loaded via this mode unless they are explicitly allowlisted by the user via `torch.serialization.add_safe_globals`. We recommend you start setting `weights_only=True` for any use case where you don't have full control of the loaded file. Please open an issue on GitHub for any issues related to this experimental feature.\n",
      "  coords_norm = torch.load(directory + 'coords_norm.th')\n",
      "/tmp/ipykernel_373902/1446659531.py:4: FutureWarning: You are using `torch.load` with `weights_only=False` (the current default value), which uses the default pickle module implicitly. It is possible to construct malicious pickle data which will execute arbitrary code during unpickling (See https://github.com/pytorch/pytorch/blob/main/SECURITY.md#untrusted-models for more details). In a future release, the default value for `weights_only` will be flipped to `True`. This limits the functions that could be executed during unpickling. Arbitrary objects will no longer be allowed to be loaded via this mode unless they are explicitly allowlisted by the user via `torch.serialization.add_safe_globals`. We recommend you start setting `weights_only=True` for any use case where you don't have full control of the loaded file. Please open an issue on GitHub for any issues related to this experimental feature.\n",
      "  vars_norm = torch.load(directory + 'vars_norm.th')\n"
     ]
    }
   ],
   "source": [
    "# Load tensor data\n",
    "directory = '../data/ffs/preprocessed/'\n",
    "coords_norm = torch.load(directory + 'coords_norm.th')\n",
    "vars_norm = torch.load(directory + 'vars_norm.th')"
   ]
  },
  {
   "cell_type": "code",
   "execution_count": null,
   "metadata": {},
   "outputs": [],
   "source": [
    "#Save to matlab format\n",
    "import scipy.io as sio\n",
    "\n",
    "saveDir = './data/ffs/mat/'\n",
    "\n",
    "\n",
    "sio.savemat(saveDir + directory.split('/')[-2] + '.mat', dataDict)"
   ]
  }
 ],
 "metadata": {
  "kernelspec": {
   "display_name": "base",
   "language": "python",
   "name": "python3"
  },
  "language_info": {
   "codemirror_mode": {
    "name": "ipython",
    "version": 3
   },
   "file_extension": ".py",
   "mimetype": "text/x-python",
   "name": "python",
   "nbconvert_exporter": "python",
   "pygments_lexer": "ipython3",
   "version": "3.11.10"
  }
 },
 "nbformat": 4,
 "nbformat_minor": 2
}
