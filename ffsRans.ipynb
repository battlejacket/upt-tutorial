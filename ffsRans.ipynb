{
 "cells": [
  {
   "cell_type": "code",
   "execution_count": 1,
   "id": "d8d9add7a6449ac2",
   "metadata": {
    "id": "d8d9add7a6449ac2"
   },
   "outputs": [],
   "source": [
    "# general imports\n",
    "import matplotlib.pyplot as plt\n",
    "import torch\n",
    "import torch.nn.functional as F\n",
    "from tqdm import tqdm\n",
    "import wandb"
   ]
  },
  {
   "cell_type": "code",
   "execution_count": 2,
   "id": "493f1b35",
   "metadata": {},
   "outputs": [
    {
     "name": "stdout",
     "output_type": "stream",
     "text": [
      "2.5.1+cu124\n",
      "NVIDIA GeForce RTX 4090\n",
      "0.20.1+cu124\n"
     ]
    }
   ],
   "source": [
    "# check successful setup\n",
    "print(torch.__version__)\n",
    "device = torch.device(\"cuda\")\n",
    "print(torch.cuda.get_device_name(device))\n",
    "import torchvision\n",
    "print(torchvision.__version__)\n",
    "from torch_geometric.nn.pool import radius_graph\n",
    "from torch_scatter import segment_csr"
   ]
  },
  {
   "cell_type": "markdown",
   "id": "ab049803f2bedcb3",
   "metadata": {
    "collapsed": false,
    "id": "ab049803f2bedcb3"
   },
   "source": [
    "# 6 Transient Flow CFD"
   ]
  },
  {
   "cell_type": "code",
   "execution_count": null,
   "id": "330b469f1e08edd0",
   "metadata": {
    "id": "330b469f1e08edd0"
   },
   "outputs": [],
   "source": [
    "from upt.datasets.ffs_dataset import ffsDataset\n",
    "\n",
    "num_test_inputs  = 8192\n",
    "num_test_outputs = 4096\n",
    "# num_train_inputs  = 8192\n",
    "# num_train_outputs = 16000\n",
    "\n",
    "num_train_inputs  = num_test_inputs \n",
    "num_train_outputs = num_test_outputs\n",
    "\n",
    "\n",
    "# initialize dataset\n",
    "train_dataset = ffsDataset(\n",
    "    root=\"./data/ffs/preprocessed\",\n",
    "    # how many inputs to use for training\n",
    "    # num_inputs=float(\"inf\"),\n",
    "    num_inputs=num_train_inputs,\n",
    "    # how many outputs to use for training\n",
    "    # num_outputs=float(\"inf\"),\n",
    "    num_outputs=num_train_outputs,\n",
    "    # mode\n",
    "    mode=\"train\",\n",
    ")\n",
    "\n",
    "test_dataset = ffsDataset(\n",
    "    root=\"./data/ffs/preprocessed\",\n",
    "    # how many inputs to use for training\n",
    "    # num_inputs=float(\"inf\"),\n",
    "    num_inputs=num_test_inputs,\n",
    "    # how many outputs to use for training\n",
    "    # num_outputs=float(\"inf\"),\n",
    "    num_outputs=num_test_outputs,\n",
    "    # mode\n",
    "    mode=\"test\",\n",
    ")"
   ]
  },
  {
   "cell_type": "code",
   "execution_count": 4,
   "id": "25532cc6",
   "metadata": {},
   "outputs": [
    {
     "name": "stdout",
     "output_type": "stream",
     "text": [
      "torch.Size([8192, 2])\n",
      "torch.Size([16000, 2])\n"
     ]
    }
   ],
   "source": [
    "sample = train_dataset[8]\n",
    "print(sample['input_pos'].shape)\n",
    "print(sample['output_pos'].shape)"
   ]
  },
  {
   "cell_type": "code",
   "execution_count": null,
   "id": "3e50b52f5fd94f4c",
   "metadata": {
    "id": "3e50b52f5fd94f4c"
   },
   "outputs": [],
   "source": [
    "# hyperparameters model\n",
    "dim = 192\n",
    "num_heads = 3\n",
    "radius = 5\n",
    "max_degree=32\n",
    "depth=4\n",
    "num_latent_tokens=512\n",
    "\n",
    "# hyperparameters training\n",
    "learning_rate = 1e-4\n",
    "weight_decay=0.05\n",
    "num_supernodes = 2048\n",
    "epochs = 1000\n",
    "batch_size = 50\n"
   ]
  },
  {
   "cell_type": "code",
   "execution_count": 6,
   "id": "96e1e89e84bd3b27",
   "metadata": {
    "colab": {
     "base_uri": "https://localhost:8080/"
    },
    "id": "96e1e89e84bd3b27",
    "outputId": "d0e63e59-c8c1-48d7-c70c-8904cfbdec99"
   },
   "outputs": [
    {
     "name": "stdout",
     "output_type": "stream",
     "text": [
      "parameters: 19.6M\n"
     ]
    }
   ],
   "source": [
    "from upt.models.ffs_upt import ffsUPT\n",
    "# from upt.models.upt import UPT\n",
    "from upt.models.approximator import Approximator\n",
    "from upt.models.decoder_perceiver import DecoderPerceiver\n",
    "from upt.models.encoder_supernodes import EncoderSupernodes\n",
    "from upt.models.conditioner_re import ConditionerRe\n",
    "\n",
    "# initialize model\n",
    "conditioner = ConditionerRe(\n",
    "    dim=dim,\n",
    "    num_values=train_dataset.num_values,\n",
    ")\n",
    "model = ffsUPT(\n",
    "    conditioner=conditioner,\n",
    "    encoder=EncoderSupernodes(\n",
    "        # simulation has 3 inputs: 2D velocity + pressure\n",
    "        input_dim=2,\n",
    "        # 2D dataset\n",
    "        ndim=2,\n",
    "        # positions are rescaled to [0, 200]\n",
    "        radius=radius,\n",
    "        # in regions where there are a lot of mesh cells, it would result in supernodes having a lot of\n",
    "        # connections to nodes. but since we sample the supernodes uniform, we also have a lot of supernodes\n",
    "        # in dense regions, so we can simply limit the maximum amount of connections to each supernodes\n",
    "        # to avoid an extreme amount of edges\n",
    "        max_degree=max_degree,\n",
    "        # dimension for the supernode pooling -> use same as ViT-T latent dim\n",
    "        gnn_dim=dim,\n",
    "        # ViT-T latent dimension\n",
    "        enc_dim=dim,\n",
    "        enc_num_heads=num_heads,\n",
    "        # ViT-T has 12 blocks -> parameters are split evenly among encoder/approximator/decoder\n",
    "        enc_depth=depth,\n",
    "        # downsample to 128 latent tokens for fast training\n",
    "        perc_dim=dim,\n",
    "        perc_num_heads=num_heads,\n",
    "        num_latent_tokens=num_latent_tokens,\n",
    "        # pass conditioner dim\n",
    "        cond_dim=conditioner.cond_dim,\n",
    "    ),\n",
    "    approximator=Approximator(\n",
    "        # tell the approximator the dimension of the input (perc_dim or enc_dim of encoder)\n",
    "        input_dim=dim,\n",
    "        # as in ViT-T\n",
    "        dim=dim,\n",
    "        num_heads=num_heads,\n",
    "        # ViT-T has 12 blocks -> parameters are split evenly among encoder/approximator/decoder\n",
    "        depth=depth,\n",
    "        # pass conditioner dim\n",
    "        cond_dim=conditioner.cond_dim,\n",
    "    ),\n",
    "    decoder=DecoderPerceiver(\n",
    "        # tell the decoder the dimension of the input (dim of approximator)\n",
    "        input_dim=dim,\n",
    "        # 2D velocity + pressure\n",
    "        output_dim=3,\n",
    "        # simulation is 2D\n",
    "        ndim=2,\n",
    "        # as in ViT-T\n",
    "        dim=dim,\n",
    "        num_heads=num_heads,\n",
    "        # ViT-T has 12 blocks -> parameters are split evenly among encoder/approximator/decoder\n",
    "        depth=depth,\n",
    "        # we assume num_outputs to be constant so we can simply reshape the dense result into a sparse tensor\n",
    "        unbatch_mode=\"dense_to_sparse_unpadded\",\n",
    "        # pass conditioner dim\n",
    "        cond_dim=conditioner.cond_dim,\n",
    "    ),\n",
    ")\n",
    "model = model.to(device)\n",
    "print(f\"parameters: {sum(p.numel() for p in model.parameters()) / 1e6:.1f}M\")"
   ]
  },
  {
   "cell_type": "code",
   "execution_count": null,
   "id": "cdda7456",
   "metadata": {},
   "outputs": [],
   "source": []
  },
  {
   "cell_type": "code",
   "execution_count": 8,
   "id": "d98257d0",
   "metadata": {},
   "outputs": [],
   "source": [
    "from torch.utils.data import DataLoader\n",
    "from tqdm import tqdm\n",
    "from upt.collators.ffs_collator import ffsCollator\n",
    "\n",
    "# setup dataloaders\n",
    "train_dataloader = DataLoader(\n",
    "    dataset=train_dataset,\n",
    "    batch_size=batch_size,\n",
    "    shuffle=False,\n",
    "    drop_last=False,\n",
    "    collate_fn=ffsCollator(num_supernodes=num_supernodes, deterministic=False),\n",
    ")\n",
    "test_dataloader = DataLoader(\n",
    "    dataset=test_dataset,\n",
    "    batch_size=batch_size,\n",
    "    collate_fn=ffsCollator(num_supernodes=num_supernodes, deterministic=True),\n",
    ")"
   ]
  },
  {
   "cell_type": "code",
   "execution_count": 9,
   "id": "6c0a7cfb",
   "metadata": {},
   "outputs": [
    {
     "name": "stderr",
     "output_type": "stream",
     "text": [
      "\u001b[34m\u001b[1mwandb\u001b[0m: Using wandb-core as the SDK backend.  Please refer to https://wandb.me/wandb-core for more information.\n",
      "\u001b[34m\u001b[1mwandb\u001b[0m: Currently logged in as: \u001b[33mbattlejacket\u001b[0m (\u001b[33mbattlejacket-liu\u001b[0m) to \u001b[32mhttps://api.wandb.ai\u001b[0m. Use \u001b[1m`wandb login --relogin`\u001b[0m to force relogin\n"
     ]
    },
    {
     "data": {
      "text/html": [
       "Tracking run with wandb version 0.19.8"
      ],
      "text/plain": [
       "<IPython.core.display.HTML object>"
      ]
     },
     "metadata": {},
     "output_type": "display_data"
    },
    {
     "data": {
      "text/html": [
       "Run data is saved locally in <code>/workspace/upt-tutorial/wandb/run-20250408_103654-v8e22htu</code>"
      ],
      "text/plain": [
       "<IPython.core.display.HTML object>"
      ]
     },
     "metadata": {},
     "output_type": "display_data"
    },
    {
     "data": {
      "text/html": [
       "Syncing run <strong><a href='https://wandb.ai/battlejacket-liu/UPT-DO/runs/v8e22htu' target=\"_blank\">ethereal-galaxy-2</a></strong> to <a href='https://wandb.ai/battlejacket-liu/UPT-DO' target=\"_blank\">Weights & Biases</a> (<a href='https://wandb.me/developer-guide' target=\"_blank\">docs</a>)<br>"
      ],
      "text/plain": [
       "<IPython.core.display.HTML object>"
      ]
     },
     "metadata": {},
     "output_type": "display_data"
    },
    {
     "data": {
      "text/html": [
       " View project at <a href='https://wandb.ai/battlejacket-liu/UPT-DO' target=\"_blank\">https://wandb.ai/battlejacket-liu/UPT-DO</a>"
      ],
      "text/plain": [
       "<IPython.core.display.HTML object>"
      ]
     },
     "metadata": {},
     "output_type": "display_data"
    },
    {
     "data": {
      "text/html": [
       " View run at <a href='https://wandb.ai/battlejacket-liu/UPT-DO/runs/v8e22htu' target=\"_blank\">https://wandb.ai/battlejacket-liu/UPT-DO/runs/v8e22htu</a>"
      ],
      "text/plain": [
       "<IPython.core.display.HTML object>"
      ]
     },
     "metadata": {},
     "output_type": "display_data"
    }
   ],
   "source": [
    "# Start a new wandb run to track this script.\n",
    "run = wandb.init(\n",
    "    # Set the wandb entity where your project will be logged (generally your team name).\n",
    "    entity=\"battlejacket-liu\",\n",
    "    # Set the wandb project where this run will be logged.\n",
    "    project=\"UPT-DO\",\n",
    "    # Track hyperparameters and run metadata.\n",
    "    config={\n",
    "        \"learning_rate\": learning_rate,\n",
    "        \"dataset\": \"ffs\",\n",
    "        \"epochs\": epochs,\n",
    "        \"num_test_inputs\": num_test_inputs,\n",
    "        \"num_test_outputs\": num_test_outputs,\n",
    "        \"num_train_inputs\": num_train_inputs,\n",
    "        \"num_train_outputs\": num_train_outputs,\n",
    "        \"dim\": dim,\n",
    "        \"num_heads\": num_heads,\n",
    "        \"batch_size\": batch_size,\n",
    "        \"weight_decay\": weight_decay,\n",
    "        \"num_supernodes\": num_supernodes,\n",
    "        \"depth\": depth,\n",
    "        \"encoder_radius\": radius,\n",
    "        \"encoder_max_degree\": max_degree,\n",
    "        \"encoder_num_latent_tokens\": num_latent_tokens,\n",
    "    },\n",
    ")"
   ]
  },
  {
   "cell_type": "code",
   "execution_count": 10,
   "id": "18b0a31b",
   "metadata": {},
   "outputs": [
    {
     "name": "stderr",
     "output_type": "stream",
     "text": [
      "train_loss: 0.3267 test_loss: 0.5703 :  58%|█████▊    | 1162/2000 [13:37<09:12,  1.52it/s]                    "
     ]
    },
    {
     "ename": "KeyboardInterrupt",
     "evalue": "",
     "output_type": "error",
     "traceback": [
      "\u001b[0;31m---------------------------------------------------------------------------\u001b[0m",
      "\u001b[0;31mKeyboardInterrupt\u001b[0m                         Traceback (most recent call last)",
      "Cell \u001b[0;32mIn[10], line 26\u001b[0m\n\u001b[1;32m     23\u001b[0m test_loss \u001b[38;5;241m=\u001b[39m \u001b[38;5;28;01mNone\u001b[39;00m\n\u001b[1;32m     24\u001b[0m \u001b[38;5;28;01mfor\u001b[39;00m _ \u001b[38;5;129;01min\u001b[39;00m \u001b[38;5;28mrange\u001b[39m(epochs):\n\u001b[1;32m     25\u001b[0m     \u001b[38;5;66;03m# train for an epoch\u001b[39;00m\n\u001b[0;32m---> 26\u001b[0m \u001b[43m    \u001b[49m\u001b[38;5;28;43;01mfor\u001b[39;49;00m\u001b[43m \u001b[49m\u001b[43mbatch\u001b[49m\u001b[43m \u001b[49m\u001b[38;5;129;43;01min\u001b[39;49;00m\u001b[43m \u001b[49m\u001b[43mtrain_dataloader\u001b[49m\u001b[43m:\u001b[49m\n\u001b[1;32m     27\u001b[0m \u001b[43m        \u001b[49m\u001b[38;5;66;43;03m# schedule learning rate\u001b[39;49;00m\n\u001b[1;32m     28\u001b[0m \u001b[43m        \u001b[49m\u001b[38;5;28;43;01mfor\u001b[39;49;00m\u001b[43m \u001b[49m\u001b[43mparam_group\u001b[49m\u001b[43m \u001b[49m\u001b[38;5;129;43;01min\u001b[39;49;00m\u001b[43m \u001b[49m\u001b[43moptim\u001b[49m\u001b[38;5;241;43m.\u001b[39;49m\u001b[43mparam_groups\u001b[49m\u001b[43m:\u001b[49m\n\u001b[1;32m     29\u001b[0m \u001b[43m            \u001b[49m\u001b[43mparam_group\u001b[49m\u001b[43m[\u001b[49m\u001b[38;5;124;43m\"\u001b[39;49m\u001b[38;5;124;43mlr\u001b[39;49m\u001b[38;5;124;43m\"\u001b[39;49m\u001b[43m]\u001b[49m\u001b[43m \u001b[49m\u001b[38;5;241;43m=\u001b[39;49m\u001b[43m \u001b[49m\u001b[43mlrs\u001b[49m\u001b[43m[\u001b[49m\u001b[43mupdate\u001b[49m\u001b[43m]\u001b[49m\n",
      "File \u001b[0;32m/opt/conda/lib/python3.11/site-packages/torch/utils/data/dataloader.py:701\u001b[0m, in \u001b[0;36m_BaseDataLoaderIter.__next__\u001b[0;34m(self)\u001b[0m\n\u001b[1;32m    698\u001b[0m \u001b[38;5;28;01mif\u001b[39;00m \u001b[38;5;28mself\u001b[39m\u001b[38;5;241m.\u001b[39m_sampler_iter \u001b[38;5;129;01mis\u001b[39;00m \u001b[38;5;28;01mNone\u001b[39;00m:\n\u001b[1;32m    699\u001b[0m     \u001b[38;5;66;03m# TODO(https://github.com/pytorch/pytorch/issues/76750)\u001b[39;00m\n\u001b[1;32m    700\u001b[0m     \u001b[38;5;28mself\u001b[39m\u001b[38;5;241m.\u001b[39m_reset()  \u001b[38;5;66;03m# type: ignore[call-arg]\u001b[39;00m\n\u001b[0;32m--> 701\u001b[0m data \u001b[38;5;241m=\u001b[39m \u001b[38;5;28;43mself\u001b[39;49m\u001b[38;5;241;43m.\u001b[39;49m\u001b[43m_next_data\u001b[49m\u001b[43m(\u001b[49m\u001b[43m)\u001b[49m\n\u001b[1;32m    702\u001b[0m \u001b[38;5;28mself\u001b[39m\u001b[38;5;241m.\u001b[39m_num_yielded \u001b[38;5;241m+\u001b[39m\u001b[38;5;241m=\u001b[39m \u001b[38;5;241m1\u001b[39m\n\u001b[1;32m    703\u001b[0m \u001b[38;5;28;01mif\u001b[39;00m (\n\u001b[1;32m    704\u001b[0m     \u001b[38;5;28mself\u001b[39m\u001b[38;5;241m.\u001b[39m_dataset_kind \u001b[38;5;241m==\u001b[39m _DatasetKind\u001b[38;5;241m.\u001b[39mIterable\n\u001b[1;32m    705\u001b[0m     \u001b[38;5;129;01mand\u001b[39;00m \u001b[38;5;28mself\u001b[39m\u001b[38;5;241m.\u001b[39m_IterableDataset_len_called \u001b[38;5;129;01mis\u001b[39;00m \u001b[38;5;129;01mnot\u001b[39;00m \u001b[38;5;28;01mNone\u001b[39;00m\n\u001b[1;32m    706\u001b[0m     \u001b[38;5;129;01mand\u001b[39;00m \u001b[38;5;28mself\u001b[39m\u001b[38;5;241m.\u001b[39m_num_yielded \u001b[38;5;241m>\u001b[39m \u001b[38;5;28mself\u001b[39m\u001b[38;5;241m.\u001b[39m_IterableDataset_len_called\n\u001b[1;32m    707\u001b[0m ):\n",
      "File \u001b[0;32m/opt/conda/lib/python3.11/site-packages/torch/utils/data/dataloader.py:757\u001b[0m, in \u001b[0;36m_SingleProcessDataLoaderIter._next_data\u001b[0;34m(self)\u001b[0m\n\u001b[1;32m    755\u001b[0m \u001b[38;5;28;01mdef\u001b[39;00m \u001b[38;5;21m_next_data\u001b[39m(\u001b[38;5;28mself\u001b[39m):\n\u001b[1;32m    756\u001b[0m     index \u001b[38;5;241m=\u001b[39m \u001b[38;5;28mself\u001b[39m\u001b[38;5;241m.\u001b[39m_next_index()  \u001b[38;5;66;03m# may raise StopIteration\u001b[39;00m\n\u001b[0;32m--> 757\u001b[0m     data \u001b[38;5;241m=\u001b[39m \u001b[38;5;28;43mself\u001b[39;49m\u001b[38;5;241;43m.\u001b[39;49m\u001b[43m_dataset_fetcher\u001b[49m\u001b[38;5;241;43m.\u001b[39;49m\u001b[43mfetch\u001b[49m\u001b[43m(\u001b[49m\u001b[43mindex\u001b[49m\u001b[43m)\u001b[49m  \u001b[38;5;66;03m# may raise StopIteration\u001b[39;00m\n\u001b[1;32m    758\u001b[0m     \u001b[38;5;28;01mif\u001b[39;00m \u001b[38;5;28mself\u001b[39m\u001b[38;5;241m.\u001b[39m_pin_memory:\n\u001b[1;32m    759\u001b[0m         data \u001b[38;5;241m=\u001b[39m _utils\u001b[38;5;241m.\u001b[39mpin_memory\u001b[38;5;241m.\u001b[39mpin_memory(data, \u001b[38;5;28mself\u001b[39m\u001b[38;5;241m.\u001b[39m_pin_memory_device)\n",
      "File \u001b[0;32m/opt/conda/lib/python3.11/site-packages/torch/utils/data/_utils/fetch.py:52\u001b[0m, in \u001b[0;36m_MapDatasetFetcher.fetch\u001b[0;34m(self, possibly_batched_index)\u001b[0m\n\u001b[1;32m     50\u001b[0m         data \u001b[38;5;241m=\u001b[39m \u001b[38;5;28mself\u001b[39m\u001b[38;5;241m.\u001b[39mdataset\u001b[38;5;241m.\u001b[39m__getitems__(possibly_batched_index)\n\u001b[1;32m     51\u001b[0m     \u001b[38;5;28;01melse\u001b[39;00m:\n\u001b[0;32m---> 52\u001b[0m         data \u001b[38;5;241m=\u001b[39m \u001b[43m[\u001b[49m\u001b[38;5;28;43mself\u001b[39;49m\u001b[38;5;241;43m.\u001b[39;49m\u001b[43mdataset\u001b[49m\u001b[43m[\u001b[49m\u001b[43midx\u001b[49m\u001b[43m]\u001b[49m\u001b[43m \u001b[49m\u001b[38;5;28;43;01mfor\u001b[39;49;00m\u001b[43m \u001b[49m\u001b[43midx\u001b[49m\u001b[43m \u001b[49m\u001b[38;5;129;43;01min\u001b[39;49;00m\u001b[43m \u001b[49m\u001b[43mpossibly_batched_index\u001b[49m\u001b[43m]\u001b[49m\n\u001b[1;32m     53\u001b[0m \u001b[38;5;28;01melse\u001b[39;00m:\n\u001b[1;32m     54\u001b[0m     data \u001b[38;5;241m=\u001b[39m \u001b[38;5;28mself\u001b[39m\u001b[38;5;241m.\u001b[39mdataset[possibly_batched_index]\n",
      "File \u001b[0;32m/opt/conda/lib/python3.11/site-packages/torch/utils/data/_utils/fetch.py:52\u001b[0m, in \u001b[0;36m<listcomp>\u001b[0;34m(.0)\u001b[0m\n\u001b[1;32m     50\u001b[0m         data \u001b[38;5;241m=\u001b[39m \u001b[38;5;28mself\u001b[39m\u001b[38;5;241m.\u001b[39mdataset\u001b[38;5;241m.\u001b[39m__getitems__(possibly_batched_index)\n\u001b[1;32m     51\u001b[0m     \u001b[38;5;28;01melse\u001b[39;00m:\n\u001b[0;32m---> 52\u001b[0m         data \u001b[38;5;241m=\u001b[39m [\u001b[38;5;28;43mself\u001b[39;49m\u001b[38;5;241;43m.\u001b[39;49m\u001b[43mdataset\u001b[49m\u001b[43m[\u001b[49m\u001b[43midx\u001b[49m\u001b[43m]\u001b[49m \u001b[38;5;28;01mfor\u001b[39;00m idx \u001b[38;5;129;01min\u001b[39;00m possibly_batched_index]\n\u001b[1;32m     53\u001b[0m \u001b[38;5;28;01melse\u001b[39;00m:\n\u001b[1;32m     54\u001b[0m     data \u001b[38;5;241m=\u001b[39m \u001b[38;5;28mself\u001b[39m\u001b[38;5;241m.\u001b[39mdataset[possibly_batched_index]\n",
      "File \u001b[0;32m/workspace/upt-tutorial/upt/datasets/ffs_dataset.py:120\u001b[0m, in \u001b[0;36mffsDataset.__getitem__\u001b[0;34m(self, idx)\u001b[0m\n\u001b[1;32m    116\u001b[0m re \u001b[38;5;241m=\u001b[39m \u001b[38;5;28mself\u001b[39m\u001b[38;5;241m.\u001b[39mgetitem_re(idx)\n\u001b[1;32m    118\u001b[0m target \u001b[38;5;241m=\u001b[39m torch\u001b[38;5;241m.\u001b[39mcat((u, v, p), dim\u001b[38;5;241m=\u001b[39m\u001b[38;5;241m1\u001b[39m)\n\u001b[0;32m--> 120\u001b[0m mesh_pos \u001b[38;5;241m=\u001b[39m \u001b[38;5;28;43mself\u001b[39;49m\u001b[38;5;241;43m.\u001b[39;49m\u001b[43mgetitem_all_pos\u001b[49m\u001b[43m(\u001b[49m\u001b[43midx\u001b[49m\u001b[43m)\u001b[49m\n\u001b[1;32m    123\u001b[0m \u001b[38;5;66;03m# subsample random input pixels (locations of inputs and outputs does not have to be the same)\u001b[39;00m\n\u001b[1;32m    124\u001b[0m \u001b[38;5;28;01mif\u001b[39;00m \u001b[38;5;28mself\u001b[39m\u001b[38;5;241m.\u001b[39mnum_inputs \u001b[38;5;241m!=\u001b[39m \u001b[38;5;28mfloat\u001b[39m(\u001b[38;5;124m\"\u001b[39m\u001b[38;5;124minf\u001b[39m\u001b[38;5;124m\"\u001b[39m):\n",
      "File \u001b[0;32m/workspace/upt-tutorial/upt/datasets/ffs_dataset.py:97\u001b[0m, in \u001b[0;36mffsDataset.getitem_all_pos\u001b[0;34m(self, idx)\u001b[0m\n\u001b[1;32m     95\u001b[0m all_pos \u001b[38;5;241m=\u001b[39m torch\u001b[38;5;241m.\u001b[39mload(\u001b[38;5;28mself\u001b[39m\u001b[38;5;241m.\u001b[39muris[idx] \u001b[38;5;241m/\u001b[39m \u001b[38;5;124m\"\u001b[39m\u001b[38;5;124mmesh_points.th\u001b[39m\u001b[38;5;124m\"\u001b[39m, weights_only\u001b[38;5;241m=\u001b[39m\u001b[38;5;28;01mTrue\u001b[39;00m)\n\u001b[1;32m     96\u001b[0m \u001b[38;5;66;03m# rescale for sincos positional embedding\u001b[39;00m\n\u001b[0;32m---> 97\u001b[0m \u001b[43mall_pos\u001b[49m\u001b[38;5;241;43m.\u001b[39;49m\u001b[43msub_\u001b[49m\u001b[43m(\u001b[49m\u001b[38;5;28;43mself\u001b[39;49m\u001b[38;5;241;43m.\u001b[39;49m\u001b[43mdomain_min\u001b[49m\u001b[43m)\u001b[49m\u001b[38;5;241;43m.\u001b[39;49m\u001b[43mdiv_\u001b[49m\u001b[43m(\u001b[49m\u001b[38;5;28;43mself\u001b[39;49m\u001b[38;5;241;43m.\u001b[39;49m\u001b[43mdomain_max\u001b[49m\u001b[43m \u001b[49m\u001b[38;5;241;43m-\u001b[39;49m\u001b[43m \u001b[49m\u001b[38;5;28;43mself\u001b[39;49m\u001b[38;5;241;43m.\u001b[39;49m\u001b[43mdomain_min\u001b[49m\u001b[43m)\u001b[49m\u001b[38;5;241;43m.\u001b[39;49m\u001b[43mmul_\u001b[49m\u001b[43m(\u001b[49m\u001b[38;5;28;43mself\u001b[39;49m\u001b[38;5;241;43m.\u001b[39;49m\u001b[43mscale\u001b[49m\u001b[43m)\u001b[49m\n\u001b[1;32m     98\u001b[0m \u001b[38;5;28;01massert\u001b[39;00m torch\u001b[38;5;241m.\u001b[39mall(\u001b[38;5;241m0\u001b[39m \u001b[38;5;241m<\u001b[39m\u001b[38;5;241m=\u001b[39m all_pos)\n\u001b[1;32m     99\u001b[0m \u001b[38;5;28;01massert\u001b[39;00m torch\u001b[38;5;241m.\u001b[39mall(all_pos \u001b[38;5;241m<\u001b[39m\u001b[38;5;241m=\u001b[39m \u001b[38;5;28mself\u001b[39m\u001b[38;5;241m.\u001b[39mscale)\n",
      "\u001b[0;31mKeyboardInterrupt\u001b[0m: "
     ]
    }
   ],
   "source": [
    "\n",
    "# initialize optimizer and learning rate schedule (linear warmup for first 10% -> linear decay)\n",
    "optim = torch.optim.AdamW(model.parameters(), lr=learning_rate, weight_decay=weight_decay)\n",
    "total_updates = len(train_dataloader) * epochs\n",
    "warmup_updates = int(total_updates * 0.1)\n",
    "lrs = torch.concat(\n",
    "    [\n",
    "        # linear warmup\n",
    "        torch.linspace(0, optim.defaults[\"lr\"], warmup_updates),\n",
    "        # linear decay\n",
    "        torch.linspace(optim.defaults[\"lr\"], 0, total_updates - warmup_updates),\n",
    "    ],\n",
    ")\n",
    "\n",
    "# train model\n",
    "update = 0\n",
    "pbar = tqdm(total=total_updates)\n",
    "pbar.update(0)\n",
    "pbar.set_description(\"train_loss: ????? train_accuracy: ????% test_accuracy: ????%\")\n",
    "test_accuracy = 0.0\n",
    "train_losses = []\n",
    "test_losses = []\n",
    "loss = None\n",
    "test_loss = None\n",
    "for _ in range(epochs):\n",
    "    # train for an epoch\n",
    "    for batch in train_dataloader:\n",
    "        # schedule learning rate\n",
    "        for param_group in optim.param_groups:\n",
    "            param_group[\"lr\"] = lrs[update]\n",
    "\n",
    "        # forward pass\n",
    "        y_hat = model(\n",
    "            input_feat=batch[\"input_feat\"].to(device),\n",
    "            # input_feat=None,\n",
    "            input_pos=batch[\"input_pos\"].to(device),\n",
    "            supernode_idxs=batch[\"supernode_idxs\"].to(device),\n",
    "            batch_idx=batch[\"batch_idx\"].to(device),\n",
    "            output_pos=batch[\"output_pos\"].to(device),\n",
    "            re=batch[\"re\"].to(device),\n",
    "\n",
    "        )\n",
    "        y = batch[\"target_feat\"].to(device)\n",
    "        assert y_hat.shape == y.shape\n",
    "        loss = F.mse_loss(y_hat, y)\n",
    "\n",
    "        # backward pass\n",
    "        loss.backward()\n",
    "\n",
    "        # update step\n",
    "        optim.step()\n",
    "        optim.zero_grad()\n",
    "\n",
    "        # status update\n",
    "        update += 1\n",
    "        pbar.update()\n",
    "        if test_loss is None:\n",
    "            pbar.set_description(f\"train_loss: {loss.item():.4f}\")\n",
    "        else:\n",
    "            pbar.set_description(\n",
    "                f\"train_loss: {loss.item():.4f} \"\n",
    "                f\"test_loss: {test_loss:.4f} \"\n",
    "            )\n",
    "        train_losses.append(loss.item())\n",
    "\n",
    "    # evaluate\n",
    "    test_loss = 0.\n",
    "    for batch in test_dataloader:\n",
    "        with torch.no_grad():\n",
    "            y_hat = model(\n",
    "                input_feat=batch[\"input_feat\"].to(device),\n",
    "                # input_feat=None,\n",
    "                input_pos=batch[\"input_pos\"].to(device),\n",
    "                supernode_idxs=batch[\"supernode_idxs\"].to(device),\n",
    "                batch_idx=batch[\"batch_idx\"].to(device),\n",
    "                output_pos=batch[\"output_pos\"].to(device),\n",
    "                re=batch[\"re\"].to(device),\n",
    "            )\n",
    "        y = batch[\"target_feat\"].to(device)\n",
    "        test_loss += (F.mse_loss(y_hat, y, reduction=\"sum\") / y.numel()).item()\n",
    "    test_loss /= len(test_dataloader)\n",
    "    test_losses.append(test_loss)\n",
    "    pbar.set_description(\n",
    "        f\"train_loss: {loss.item():.4f} \"\n",
    "        f\"test_loss: {test_loss:.4f} \"\n",
    "    )\n",
    "    wandb.log(\n",
    "        {\n",
    "            \"train_loss\": loss.item(),\n",
    "            \"test_loss\": test_loss,\n",
    "            \"learning_rate\": optim.param_groups[0][\"lr\"],\n",
    "        }a\n",
    "    )\n",
    "pbar.close()"
   ]
  },
  {
   "cell_type": "markdown",
   "id": "72ec4a2c367abff6",
   "metadata": {
    "collapsed": false,
    "id": "72ec4a2c367abff6"
   },
   "source": [
    "Let's plot the training curve"
   ]
  },
  {
   "cell_type": "code",
   "execution_count": 14,
   "id": "3951bd711b702cc",
   "metadata": {
    "colab": {
     "base_uri": "https://localhost:8080/",
     "height": 487
    },
    "id": "3951bd711b702cc",
    "outputId": "319e0d97-fcd3-4fd2-dca8-e0ea4d8ed592"
   },
   "outputs": [
    {
     "data": {
      "image/png": "[encoded data removed]",
      "text/plain": [
       "<Figure size 1200x500 with 2 Axes>"
      ]
     },
     "metadata": {},
     "output_type": "display_data"
    }
   ],
   "source": [
    "_, axes = plt.subplots(1, 2, figsize=(12, 5))\n",
    "axes[0].plot(range(len(train_losses)), train_losses)\n",
    "axes[0].set_xlabel(\"Updates\")\n",
    "axes[0].set_ylabel(\"Train Loss\")\n",
    "axes[0].set_title(\"Train Loss\")\n",
    "axes[0].grid(True)\n",
    "axes[1].plot(range(len(test_losses)), test_losses)\n",
    "axes[1].set_xlabel(\"Updates\")\n",
    "axes[1].set_ylabel(\"Test Loss\")\n",
    "axes[1].set_title(\"Test Loss\")\n",
    "axes[1].grid(True)\n",
    "plt.tight_layout()\n",
    "plt.show()\n",
    "# plt.savefig(\"loss_epochs\" + str(epochs) + \"_lr\" + str(learning_rate) + \"\".png\", dpi=300)\n",
    "            \n",
    "# learning_rate = 1e-4\n",
    "# weight_decay=0.05\n",
    "# num_supernodes = 512\n",
    "# epochs = 1000\n",
    "# batch_size = 50\n",
    "# dim\n",
    "# num_heads"
   ]
  },
  {
   "cell_type": "code",
   "execution_count": 55,
   "id": "d9f17a07",
   "metadata": {},
   "outputs": [],
   "source": [
    "test_hr_dataset = ffsDataset(\n",
    "    root=\"./data/ffs/preprocessed\",\n",
    "    # how many inputs to use for training\n",
    "    num_inputs=float(\"inf\"),\n",
    "    # num_inputs=8192,\n",
    "    # how many outputs to use for training\n",
    "    num_outputs=float(\"inf\"),\n",
    "    # num_outputs=8192,\n",
    "    # mode\n",
    "    mode=\"test\",\n",
    ")"
   ]
  },
  {
   "cell_type": "code",
   "execution_count": 56,
   "id": "e88957a9",
   "metadata": {},
   "outputs": [],
   "source": [
    "# get test sample\n",
    "testvis_dataloader = DataLoader(\n",
    "    dataset=test_hr_dataset,\n",
    "    batch_size=1,\n",
    "    collate_fn=ffsCollator(num_supernodes=num_supernodes, deterministic=True),\n",
    ")\n",
    "vis_batch = next(iter(testvis_dataloader))\n",
    "# vis_batch = next(iter(testvis_dataloader))"
   ]
  },
  {
   "cell_type": "code",
   "execution_count": 51,
   "id": "46a70e43",
   "metadata": {},
   "outputs": [],
   "source": [
    "vis_batch = next(iter(testvis_dataloader))"
   ]
  },
  {
   "cell_type": "code",
   "execution_count": 57,
   "id": "9c499e19",
   "metadata": {},
   "outputs": [],
   "source": [
    "# make predictions\n",
    "with torch.no_grad():\n",
    "    y_hat = model(\n",
    "        input_feat=vis_batch[\"input_feat\"].to(device),\n",
    "        input_pos=vis_batch[\"input_pos\"].to(device),\n",
    "        supernode_idxs=vis_batch[\"supernode_idxs\"].to(device),\n",
    "        batch_idx=vis_batch[\"batch_idx\"].to(device),\n",
    "        output_pos=vis_batch[\"output_pos\"].to(device),\n",
    "        re=vis_batch[\"re\"].to(device),\n",
    "    )"
   ]
  },
  {
   "cell_type": "code",
   "execution_count": 58,
   "id": "50187125",
   "metadata": {},
   "outputs": [
    {
     "ename": "AttributeError",
     "evalue": "'ffsDataset' object has no attribute 'denormalize_pos'",
     "output_type": "error",
     "traceback": [
      "\u001b[0;31m---------------------------------------------------------------------------\u001b[0m",
      "\u001b[0;31mAttributeError\u001b[0m                            Traceback (most recent call last)",
      "Cell \u001b[0;32mIn[58], line 3\u001b[0m\n\u001b[1;32m      1\u001b[0m \u001b[38;5;66;03m# plot sparse\u001b[39;00m\n\u001b[1;32m      2\u001b[0m sample \u001b[38;5;241m=\u001b[39m vis_batch\n\u001b[0;32m----> 3\u001b[0m x_pos, y_pos \u001b[38;5;241m=\u001b[39m \u001b[43mtest_hr_dataset\u001b[49m\u001b[38;5;241;43m.\u001b[39;49m\u001b[43mdenormalize_pos\u001b[49m(sample[\u001b[38;5;124m\"\u001b[39m\u001b[38;5;124moutput_pos\u001b[39m\u001b[38;5;124m\"\u001b[39m][\u001b[38;5;241m0\u001b[39m])\u001b[38;5;241m.\u001b[39munbind(\u001b[38;5;241m1\u001b[39m)\n\u001b[1;32m      4\u001b[0m pred \u001b[38;5;241m=\u001b[39m y_hat\u001b[38;5;241m.\u001b[39mcpu()\u001b[38;5;241m.\u001b[39mclamp(\u001b[38;5;241m0\u001b[39m, \u001b[38;5;241m1\u001b[39m)\n\u001b[1;32m      5\u001b[0m target \u001b[38;5;241m=\u001b[39m sample[\u001b[38;5;124m\"\u001b[39m\u001b[38;5;124mtarget_feat\u001b[39m\u001b[38;5;124m\"\u001b[39m]\u001b[38;5;241m.\u001b[39mclamp(\u001b[38;5;241m0\u001b[39m, \u001b[38;5;241m1\u001b[39m)\n",
      "\u001b[0;31mAttributeError\u001b[0m: 'ffsDataset' object has no attribute 'denormalize_pos'"
     ]
    }
   ],
   "source": [
    "# plot sparse\n",
    "sample = vis_batch\n",
    "x_pos, y_pos = test_hr_dataset.denormalize_pos(sample[\"output_pos\"][0]).unbind(1)\n",
    "pred = y_hat.cpu().clamp(0, 1)\n",
    "target = sample[\"target_feat\"].clamp(0, 1)\n",
    "\n",
    "pred = test_hr_dataset.denormalize_feat(pred)\n",
    "target = test_hr_dataset.denormalize_feat(target)\n",
    "\n",
    "\n",
    "# _, axes = plt.subplots(2, 1, figsize=(10, 2))\n",
    "# axes[0].scatter(x_out, y_out, c=c_out, marker=\"s\", s=1)\n",
    "# axes[0].set_title(\"target\")\n",
    "# axes[0].set_axis_off()\n",
    "# axes[1].scatter(x_out, y_out, c=c_pred, marker=\"s\", s=1)\n",
    "# axes[1].set_title(\"pred\")\n",
    "# axes[1].set_axis_off()\n",
    "# plt.tight_layout()\n",
    "# plt.show()"
   ]
  },
  {
   "cell_type": "code",
   "execution_count": null,
   "id": "71964ebc",
   "metadata": {},
   "outputs": [],
   "source": []
  }
 ],
 "metadata": {
  "accelerator": "GPU",
  "colab": {
   "gpuType": "T4",
   "provenance": []
  },
  "kernelspec": {
   "display_name": "base",
   "language": "python",
   "name": "python3"
  },
  "language_info": {
   "codemirror_mode": {
    "name": "ipython",
    "version": 3
   },
   "file_extension": ".py",
   "mimetype": "text/x-python",
   "name": "python",
   "nbconvert_exporter": "python",
   "pygments_lexer": "ipython3",
   "version": "3.11.10"
  }
 },
 "nbformat": 4,
 "nbformat_minor": 5
}
