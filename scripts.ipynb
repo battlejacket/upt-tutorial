{
 "cells": [
  {
   "cell_type": "code",
   "execution_count": null,
   "metadata": {},
   "outputs": [],
   "source": [
    "import torch\n",
    "import matplotlib.pyplot as plt\n",
    "import numpy as np\n",
    "from data.ffs.readParameters import readParametersFromFileName\n",
    "from ffsInference import ffsInference\n",
    "parameterDef = {'name': str, 're': float, 'Lo': float, 'Ho': float}\n",
    "from upt.datasets.ffs_dataset import ffsDataset\n"
   ]
  },
  {
   "cell_type": "code",
   "execution_count": 6,
   "metadata": {},
   "outputs": [],
   "source": [
    "import os\n",
    "from pathlib import Path\n",
    "import torch\n",
    "root = Path('./data/ffs/preprocessed600/')\n",
    "\n",
    "uris = []\n",
    "for name in sorted(os.listdir(root)):\n",
    "    sampleDir = root / name\n",
    "    if sampleDir.is_dir():\n",
    "        uris.append(sampleDir)\n",
    "\n",
    "sum_vars = 0.0\n",
    "sum_sq_vars = 0.0\n",
    "total_samples = 0\n",
    "for uri in uris:\n",
    "    sdf = torch.load(uri / 'mesh_sdf.th', weights_only=True)\n",
    "    sum_vars += sdf.sum()\n",
    "    sum_sq_vars += (sdf ** 2).sum()\n",
    "    total_samples += len(sdf)\n",
    "mean_vars = sum_vars / total_samples\n",
    "std_vars = torch.sqrt((sum_sq_vars / total_samples) - (mean_vars ** 2))\n",
    "other = torch.load(root/'vars_norm.th', weights_only=True)\n",
    "other['mean'][-1] = mean_vars\n",
    "other['std'][-1] = std_vars\n",
    "torch.save(other, root/\"vars_norm.th\")\n"
   ]
  },
  {
   "cell_type": "code",
   "execution_count": 36,
   "metadata": {},
   "outputs": [],
   "source": [
    "from pathlib import Path\n",
    "\n",
    "root = Path('./data/ffs/preprocessed/')\n",
    "\n",
    "for oldName in sorted(root.iterdir()):\n",
    "    if oldName.is_dir():\n",
    "        newName = oldName.name.replace('-', '_')\n",
    "        newPath = oldName.parent / newName\n",
    "        oldName.rename(newPath)"
   ]
  },
  {
   "cell_type": "code",
   "execution_count": null,
   "metadata": {},
   "outputs": [],
   "source": [
    "from pathlib import Path\n",
    "import shutil\n",
    "\n",
    "dir_path = Path(\"path/to/your/folder\")\n",
    "\n",
    "if dir_path.exists() and dir_path.is_dir():\n",
    "    shutil.rmtree(dir_path)"
   ]
  },
  {
   "cell_type": "code",
   "execution_count": null,
   "metadata": {},
   "outputs": [],
   "source": [
    "from pathlib import Path\n",
    "import shutil\n",
    "\n",
    "\n",
    "root = Path('./data/ffs/preprocessed/')\n",
    "\n",
    "for name in sorted(root.iterdir()):\n",
    "    if name.is_dir() and '-' in name.name:\n",
    "        shutil.rmtree(name)\n",
    "        print(name)"
   ]
  },
  {
   "cell_type": "code",
   "execution_count": null,
   "metadata": {},
   "outputs": [],
   "source": [
    "import torch\n",
    "from pathlib import Path\n",
    "\n",
    "import pandas as pd\n",
    "\n",
    "# Load the CSV file\n",
    "df = pd.read_csv('forwardFacingStep/validationTable.csv')\n",
    "selected_columns = ['Name', 'P4 - Re', 'P6 - Ob_pos [m]', 'P7 - Ob_H [m]', 'P1 - Delta Cp']\n",
    "dCp_valDesigns = df[selected_columns]\n",
    "# Iterate over rows\n",
    "for index, row in df.iterrows():\n",
    "    myString = f\"{row['Name'].replace(' ', '')}_{row['P4 - Re']}_{row['P6 - Ob_pos [m]']}_{row['P7 - Ob_H [m]']}_{row['P1 - Delta Cp']}\"\n",
    "    myString = myString.replace('.', ',')\n",
    "    print(myString)"
   ]
  },
  {
   "cell_type": "code",
   "execution_count": null,
   "metadata": {},
   "outputs": [],
   "source": [
    "import torch\n",
    "from pathlib import Path\n",
    "\n",
    "import pandas as pd\n",
    "\n",
    "# Load the CSV file\n",
    "df = pd.read_csv('forwardFacingStep/dataset600.csv')\n",
    "# selected_columns = ['Name', 'P4 - Re', 'P6 - Ob_pos [m]', 'P7 - Ob_H [m]', 'P1 - Delta Cp']\n",
    "# dCp_valDesigns = df[selected_columns]\n",
    "\n",
    "root = Path('./data/ffs/preprocessed600/')\n",
    "maxHo = 0\n",
    "for oldName in sorted(root.iterdir()):\n",
    "    if oldName.is_dir():\n",
    "        # print(oldName)\n",
    "        # Iterate over rows\n",
    "        found = False\n",
    "        for index, row in df.iterrows():\n",
    "            if row['Name'].replace(' ', '') == oldName.name.split('_')[0]:\n",
    "                # dCp = row['P1 - Delta Cp']\n",
    "                newName = f\"{row['Name'].replace(' ', '')}_{row['P4 - Re']}_{row['P6 - Ob_pos [m]']}_{row['P7 - Ob_H [m]']}_{row['P1 - Delta Cp']}\"\n",
    "                newName = newName.replace('.', ',')\n",
    "                newPath = oldName.parent / newName\n",
    "                # oldName.rename(newPath)\n",
    "                found = True\n",
    "                next\n",
    "                # print(newPath)\n",
    "        if not found:\n",
    "            print(oldName.name)"
   ]
  }
 ],
 "metadata": {
  "kernelspec": {
   "display_name": "base",
   "language": "python",
   "name": "python3"
  },
  "language_info": {
   "codemirror_mode": {
    "name": "ipython",
    "version": 3
   },
   "file_extension": ".py",
   "mimetype": "text/x-python",
   "name": "python",
   "nbconvert_exporter": "python",
   "pygments_lexer": "ipython3",
   "version": "3.11.10"
  }
 },
 "nbformat": 4,
 "nbformat_minor": 2
}
